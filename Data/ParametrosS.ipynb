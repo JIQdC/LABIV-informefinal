{
 "cells": [
  {
   "cell_type": "code",
   "execution_count": 15,
   "metadata": {},
   "outputs": [],
   "source": [
    "import numpy as np\n",
    "import csv\n",
    "\n",
    "class sparams:\n",
    "    def __init__(self):\n",
    "        self.vds=np.arange\n",
    "        self.ids=np.arange\n",
    "        self.fc=np.arange\n",
    "        self.s11=np.arange\n",
    "        self.s12=np.arange\n",
    "        self.s21=np.arange\n",
    "        self.s22=np.arange\n",
    "        self.g=np.arange\n",
    "        self.r0=np.arange\n",
    "        self.p0=np.arange\n",
    "        self.k=np.arange\n",
    "        self.mag=np.arange\n",
    "        self.mu=np.arange\n",
    "\n",
    "def leerArchivo(filename):\n",
    "    with open(filename) as csvfile:\n",
    "        readCSV = csv.reader(csvfile, delimiter=';')\n",
    "        VDS = []\n",
    "        IDS = []\n",
    "        FC = []\n",
    "        S11 = []\n",
    "        S12 = []\n",
    "        S21 = []\n",
    "        S22 = []\n",
    "        DS = []\n",
    "        D2 = []\n",
    "        C2 = []\n",
    "        K = []\n",
    "        G = []\n",
    "        R0 = []\n",
    "        P0 = []\n",
    "        MAG = []\n",
    "        MU = []\n",
    "        \n",
    "\n",
    "        for row in readCSV:\n",
    "            vds = float(row[0])\n",
    "            ids = float(row[1])\n",
    "            fc = float(row[2])\n",
    "            ms11 = float(row[3])\n",
    "            as11 = float(row[4])\n",
    "            ms21 = float(row[6])\n",
    "            as21 = float(row[7])\n",
    "            ms12 = float(row[8])\n",
    "            as12 = float(row[9])\n",
    "            ms22 = float(row[10])\n",
    "            as22 = float(row[11])\n",
    "\n",
    "            s11=ms11*(np.cos(np.radians(as11))+1j*np.sin(np.radians(as11)))\n",
    "            s12=ms12*(np.cos(np.radians(as12))+1j*np.sin(np.radians(as12)))\n",
    "            s21=ms21*(np.cos(np.radians(as21))+1j*np.sin(np.radians(as21)))\n",
    "            s22=ms22*(np.cos(np.radians(as22))+1j*np.sin(np.radians(as22)))\n",
    "\n",
    "\n",
    "            ds=s11*s22-s12*s21\n",
    "            k=(1+np.absolute(ds)**2-np.absolute(s11)**2-np.absolute(s22)**2)/(2*(np.absolute(s21))*(np.absolute(s12)))\n",
    "            d2=np.absolute(s22)**2-np.absolute(ds)**2\n",
    "            c2=s22-ds*np.conj(s11)\n",
    "            g=gdes/(np.absolute(s21)**2)\n",
    "            r0=(g*np.conj(c2))/(1+d2*g)\n",
    "            p0=np.sqrt(1-2*k*np.absolute(s12*s21)*g+(np.absolute(s12*s21)**2)*(g**2))/(1+d2*g)\n",
    "\n",
    "            b1 = 1+np.absolute(s11)**2-np.absolute(s22)**2-np.absolute(ds)**2\n",
    "\n",
    "            if(k<1):\n",
    "                mag=0\n",
    "            else:\n",
    "                if(b1>0):\n",
    "                    mag=10*np.log10(np.absolute(s21)/np.absolute(s12))+10*np.log10(np.absolute(k-np.sqrt(k**2-1)))\n",
    "                else:\n",
    "                    mag=10*np.log10(np.absolute(s21)/np.absolute(s12))+10*np.log10(np.absolute(k+np.sqrt(k**2-1)))\n",
    "                    \n",
    "            mu = (1-np.abs(s11)**2)/(np.abs(s22-ds*np.conj(s11))+np.abs(s12*s21))\n",
    "\n",
    "            VDS.append(vds)\n",
    "            IDS.append(ids)\n",
    "            FC.append(fc)\n",
    "            S11.append(s11)\n",
    "            S21.append(s21)\n",
    "            S12.append(s12)\n",
    "            S22.append(s22)\n",
    "            K.append(k)\n",
    "            D2.append(d2)\n",
    "            DS.append(ds)\n",
    "            C2.append(c2)\n",
    "            G.append(g)\n",
    "            R0.append(r0)\n",
    "            P0.append(p0)\n",
    "            MAG.append(mag)\n",
    "            MU.append(mu)\n",
    "                \n",
    "                \n",
    "        \n",
    "    data=sparams()\n",
    "    \n",
    "    data.vds=VDS\n",
    "    data.ids=IDS\n",
    "    data.fc=FC\n",
    "    data.s11=S11\n",
    "    data.s21=S21\n",
    "    data.s12=S12\n",
    "    data.s22=S22\n",
    "    data.k=K\n",
    "    data.d2=D2\n",
    "    data.ds=DS\n",
    "    data.c2=C2\n",
    "    data.g=G\n",
    "    data.r0=R0\n",
    "    data.p0=P0\n",
    "    data.mag=MAG\n",
    "    data.mu=MU\n",
    "\n",
    "    \n",
    "    return data"
   ]
  },
  {
   "cell_type": "code",
   "execution_count": 16,
   "metadata": {},
   "outputs": [],
   "source": [
    "gdes=10**(15/10)\n",
    "S = leerArchivo('parametrosS.csv')"
   ]
  },
  {
   "cell_type": "code",
   "execution_count": 17,
   "metadata": {},
   "outputs": [
    {
     "name": "stdout",
     "output_type": "stream",
     "text": [
      "VDS =  3.0  V, IDS =  40.0  mA, K =  0.7644545402264865 , mu =  0.7181523311114844\n",
      "VDS =  3.0  V, IDS =  60.0  mA, K =  0.8113153745479651 , mu =  0.7660599281317453\n",
      "VDS =  3.0  V, IDS =  80.0  mA, K =  0.8505705155323917 , mu =  0.7605497887017785\n",
      "VDS =  4.0  V, IDS =  60.0  mA, K =  0.7998815264828811 , mu =  0.7617380947010844\n",
      "VDS =  2.9  V, IDS =  61.4  mA, K =  0.9841588858035276 , mu =  0.9744458854282757\n",
      "VDS =  2.9  V, IDS =  61.4  mA, K =  1.0604475265259345 , mu =  1.0874293731518803\n"
     ]
    }
   ],
   "source": [
    "for i in range(0,np.size(S.vds)):\n",
    "    print(\"VDS = \",S.vds[i],\" V, IDS = \",S.ids[i],\" mA, K = \",S.k[i],\", mu = \",S.mu[i])"
   ]
  },
  {
   "cell_type": "code",
   "execution_count": 26,
   "metadata": {},
   "outputs": [
    {
     "name": "stdout",
     "output_type": "stream",
     "text": [
      "vce= 2.9 V\n",
      "ic= 61.4 mA\n",
      "k= 1.0604475265259345 \n",
      "mu= 1.0874293731518803\n",
      "s11= 0.605 /_ -167.613\n",
      "s12= 0.068 /_ 111.661\n",
      "s21= 5.108 /_ 118.35200000000002\n",
      "s22= 0.11299999999999999 /_ -40.40699999999999\n"
     ]
    }
   ],
   "source": [
    "select = 5\n",
    "print(\"vce=\",S.vds[select],\"V\\nic=\",S.ids[select],\"mA\\nk=\",S.k[select],\"\\nmu=\",S.mu[select])\n",
    "print(\"s11=\",np.absolute(S.s11[select]),\"/_\",np.degrees(np.angle(S.s11[select])))\n",
    "print(\"s12=\",np.absolute(S.s12[select]),\"/_\",np.degrees(np.angle(S.s12[select])))\n",
    "print(\"s21=\",np.absolute(S.s21[select]),\"/_\",np.degrees(np.angle(S.s21[select])))\n",
    "print(\"s22=\",np.absolute(S.s22[select]),\"/_\",np.degrees(np.angle(S.s22[select])))"
   ]
  },
  {
   "cell_type": "code",
   "execution_count": 27,
   "metadata": {},
   "outputs": [
    {
     "name": "stdout",
     "output_type": "stream",
     "text": [
      "gammaS(cart)= (-0.5483878825082026+0.3496533251720231j)\n",
      "gammaS(pol)= 0.6503742903018866 /_ 147.47832567894946\n",
      "gammaIn(cart)= (-0.5483878825082026-0.3496533251720231j)\n",
      "gammaIn(pol)= 0.6503742903018866 /_ -147.47832567894946\n"
     ]
    }
   ],
   "source": [
    "ZL=53.882 + 1j*78.086\n",
    "gammaL = (ZL-50)/(ZL+50)\n",
    "#gammaL=0.975*(np.cos(np.radians(-12.005))+1j*np.sin(np.radians(-12.005)))\n",
    "gammaS=np.conj(S.s11[select]+(S.s12[select]*S.s21[select]*gammaL)/(1-S.s22[select]*gammaL))\n",
    "print(\"gammaS(cart)=\",gammaS)\n",
    "print(\"gammaS(pol)=\",np.absolute(gammaS),\"/_\",np.degrees(np.angle(gammaS)))\n",
    "gammaIn=np.conj(gammaS)\n",
    "print(\"gammaIn(cart)=\",gammaIn)\n",
    "print(\"gammaIn(pol)=\",np.absolute(gammaIn),\"/_\",np.degrees(np.angle(gammaIn)))"
   ]
  },
  {
   "cell_type": "code",
   "execution_count": 25,
   "metadata": {},
   "outputs": [
    {
     "name": "stdout",
     "output_type": "stream",
     "text": [
      "(7.3146679542287565-14.194091500079054j)\n",
      "C= -11.2127601186035\n"
     ]
    }
   ],
   "source": [
    "ZIn = 50*(1+gammaIn)/(1-gammaIn)\n",
    "print(ZIn)\n",
    "print(\"C=\",1E12/(2*np.pi*1E9*np.imag(ZIn)))"
   ]
  },
  {
   "cell_type": "code",
   "execution_count": null,
   "metadata": {},
   "outputs": [],
   "source": []
  }
 ],
 "metadata": {
  "kernelspec": {
   "display_name": "Python 3",
   "language": "python",
   "name": "python3"
  },
  "language_info": {
   "codemirror_mode": {
    "name": "ipython",
    "version": 3
   },
   "file_extension": ".py",
   "mimetype": "text/x-python",
   "name": "python",
   "nbconvert_exporter": "python",
   "pygments_lexer": "ipython3",
   "version": "3.6.4"
  }
 },
 "nbformat": 4,
 "nbformat_minor": 2
}
